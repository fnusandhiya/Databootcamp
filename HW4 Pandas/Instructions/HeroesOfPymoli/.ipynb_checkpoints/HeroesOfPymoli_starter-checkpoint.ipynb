{
 "cells": [
  {
   "cell_type": "markdown",
   "metadata": {},
   "source": [
    "### Heroes Of Pymoli Data Analysis\n",
    "* From this analysis we can see that we have total of 576 players and over 80% of players are males who are responsible for the total highest revenue. \n",
    "\n",
    "\n",
    "* Majority of purchases made by players lie under the age-group of 20-25, making 45% of total revenue.\n",
    "\n",
    "\n",
    "* The most popular and most profitable item sold was \"Oathbreaker Last Hope of the Breaking Storm\" with a total purchase count of '12' and total value of $50.76 .\n",
    "-----"
   ]
  },
  {
   "cell_type": "code",
   "execution_count": 2,
   "metadata": {},
   "outputs": [
    {
     "data": {
      "text/html": [
       "<div>\n",
       "<style scoped>\n",
       "    .dataframe tbody tr th:only-of-type {\n",
       "        vertical-align: middle;\n",
       "    }\n",
       "\n",
       "    .dataframe tbody tr th {\n",
       "        vertical-align: top;\n",
       "    }\n",
       "\n",
       "    .dataframe thead th {\n",
       "        text-align: right;\n",
       "    }\n",
       "</style>\n",
       "<table border=\"1\" class=\"dataframe\">\n",
       "  <thead>\n",
       "    <tr style=\"text-align: right;\">\n",
       "      <th></th>\n",
       "      <th>Purchase ID</th>\n",
       "      <th>SN</th>\n",
       "      <th>Age</th>\n",
       "      <th>Gender</th>\n",
       "      <th>Item ID</th>\n",
       "      <th>Item Name</th>\n",
       "      <th>Price</th>\n",
       "    </tr>\n",
       "  </thead>\n",
       "  <tbody>\n",
       "    <tr>\n",
       "      <th>0</th>\n",
       "      <td>0</td>\n",
       "      <td>Lisim78</td>\n",
       "      <td>20</td>\n",
       "      <td>Male</td>\n",
       "      <td>108</td>\n",
       "      <td>Extraction, Quickblade Of Trembling Hands</td>\n",
       "      <td>3.53</td>\n",
       "    </tr>\n",
       "    <tr>\n",
       "      <th>1</th>\n",
       "      <td>1</td>\n",
       "      <td>Lisovynya38</td>\n",
       "      <td>40</td>\n",
       "      <td>Male</td>\n",
       "      <td>143</td>\n",
       "      <td>Frenzied Scimitar</td>\n",
       "      <td>1.56</td>\n",
       "    </tr>\n",
       "    <tr>\n",
       "      <th>2</th>\n",
       "      <td>2</td>\n",
       "      <td>Ithergue48</td>\n",
       "      <td>24</td>\n",
       "      <td>Male</td>\n",
       "      <td>92</td>\n",
       "      <td>Final Critic</td>\n",
       "      <td>4.88</td>\n",
       "    </tr>\n",
       "    <tr>\n",
       "      <th>3</th>\n",
       "      <td>3</td>\n",
       "      <td>Chamassasya86</td>\n",
       "      <td>24</td>\n",
       "      <td>Male</td>\n",
       "      <td>100</td>\n",
       "      <td>Blindscythe</td>\n",
       "      <td>3.27</td>\n",
       "    </tr>\n",
       "    <tr>\n",
       "      <th>4</th>\n",
       "      <td>4</td>\n",
       "      <td>Iskosia90</td>\n",
       "      <td>23</td>\n",
       "      <td>Male</td>\n",
       "      <td>131</td>\n",
       "      <td>Fury</td>\n",
       "      <td>1.44</td>\n",
       "    </tr>\n",
       "  </tbody>\n",
       "</table>\n",
       "</div>"
      ],
      "text/plain": [
       "   Purchase ID             SN  Age Gender  Item ID  \\\n",
       "0            0        Lisim78   20   Male      108   \n",
       "1            1    Lisovynya38   40   Male      143   \n",
       "2            2     Ithergue48   24   Male       92   \n",
       "3            3  Chamassasya86   24   Male      100   \n",
       "4            4      Iskosia90   23   Male      131   \n",
       "\n",
       "                                   Item Name  Price  \n",
       "0  Extraction, Quickblade Of Trembling Hands   3.53  \n",
       "1                          Frenzied Scimitar   1.56  \n",
       "2                               Final Critic   4.88  \n",
       "3                                Blindscythe   3.27  \n",
       "4                                       Fury   1.44  "
      ]
     },
     "execution_count": 2,
     "metadata": {},
     "output_type": "execute_result"
    }
   ],
   "source": [
    "# Dependencies and Setup\n",
    "import pandas as pd\n",
    "import numpy as np\n",
    "\n",
    "# File to Load\n",
    "file_to_load = \"Resources/purchase_data.csv\"\n",
    "\n",
    "# Read Purchasing File and store into Pandas data frame\n",
    "df = pd.read_csv(file_to_load)\n",
    "df.head()\n",
    "\n"
   ]
  },
  {
   "cell_type": "markdown",
   "metadata": {},
   "source": [
    "## Player Count"
   ]
  },
  {
   "cell_type": "markdown",
   "metadata": {},
   "source": [
    "* Display the total number of players\n"
   ]
  },
  {
   "cell_type": "code",
   "execution_count": 3,
   "metadata": {},
   "outputs": [
    {
     "data": {
      "text/html": [
       "<div>\n",
       "<style scoped>\n",
       "    .dataframe tbody tr th:only-of-type {\n",
       "        vertical-align: middle;\n",
       "    }\n",
       "\n",
       "    .dataframe tbody tr th {\n",
       "        vertical-align: top;\n",
       "    }\n",
       "\n",
       "    .dataframe thead th {\n",
       "        text-align: right;\n",
       "    }\n",
       "</style>\n",
       "<table border=\"1\" class=\"dataframe\">\n",
       "  <thead>\n",
       "    <tr style=\"text-align: right;\">\n",
       "      <th></th>\n",
       "      <th>Total Player</th>\n",
       "    </tr>\n",
       "  </thead>\n",
       "  <tbody>\n",
       "    <tr>\n",
       "      <th>0</th>\n",
       "      <td>576</td>\n",
       "    </tr>\n",
       "  </tbody>\n",
       "</table>\n",
       "</div>"
      ],
      "text/plain": [
       "   Total Player\n",
       "0           576"
      ]
     },
     "execution_count": 3,
     "metadata": {},
     "output_type": "execute_result"
    }
   ],
   "source": [
    "#total number of players\n",
    "total_players = len(df[\"SN\"].value_counts())\n",
    "total_players\n",
    "\n",
    "#dataframe formatting\n",
    "dataframe = pd.DataFrame({\"Total Player\": [total_players]})\n",
    "dataframe"
   ]
  },
  {
   "cell_type": "markdown",
   "metadata": {},
   "source": [
    "## Purchasing Analysis (Total)"
   ]
  },
  {
   "cell_type": "markdown",
   "metadata": {},
   "source": [
    "* Run basic calculations to obtain number of unique items, average price, etc.\n",
    "\n",
    "\n",
    "* Create a summary data frame to hold the results\n",
    "\n",
    "\n",
    "* Optional: give the displayed data cleaner formatting\n",
    "\n",
    "\n",
    "* Display the summary data frame\n"
   ]
  },
  {
   "cell_type": "code",
   "execution_count": 4,
   "metadata": {
    "scrolled": true
   },
   "outputs": [
    {
     "data": {
      "text/html": [
       "<style  type=\"text/css\" >\n",
       "</style>  \n",
       "<table id=\"T_fca945ec_a894_11e8_83aa_f45c89926a93\" > \n",
       "<thead>    <tr> \n",
       "        <th class=\"blank level0\" ></th> \n",
       "        <th class=\"col_heading level0 col0\" >Number of Unique Items</th> \n",
       "        <th class=\"col_heading level0 col1\" >Average Price</th> \n",
       "        <th class=\"col_heading level0 col2\" >Number of Purchases</th> \n",
       "        <th class=\"col_heading level0 col3\" >Total Revenue</th> \n",
       "    </tr></thead> \n",
       "<tbody>    <tr> \n",
       "        <th id=\"T_fca945ec_a894_11e8_83aa_f45c89926a93level0_row0\" class=\"row_heading level0 row0\" >0</th> \n",
       "        <td id=\"T_fca945ec_a894_11e8_83aa_f45c89926a93row0_col0\" class=\"data row0 col0\" >183</td> \n",
       "        <td id=\"T_fca945ec_a894_11e8_83aa_f45c89926a93row0_col1\" class=\"data row0 col1\" >$3.05</td> \n",
       "        <td id=\"T_fca945ec_a894_11e8_83aa_f45c89926a93row0_col2\" class=\"data row0 col2\" >780</td> \n",
       "        <td id=\"T_fca945ec_a894_11e8_83aa_f45c89926a93row0_col3\" class=\"data row0 col3\" >$2,379.77</td> \n",
       "    </tr></tbody> \n",
       "</table> "
      ],
      "text/plain": [
       "<pandas.io.formats.style.Styler at 0x106658c88>"
      ]
     },
     "execution_count": 4,
     "metadata": {},
     "output_type": "execute_result"
    }
   ],
   "source": [
    "#obtain number of unique items\n",
    "unique_items = len(df[\"Item ID\"].value_counts())\n",
    "unique_items\n",
    "\n",
    "#calculate average price\n",
    "average_price = round(df[\"Price\"].mean(), 2)\n",
    "average_price\n",
    "\n",
    "#total number of purchases\n",
    "purchases = df[\"Price\"].count()\n",
    "purchases\n",
    "\n",
    "#calculate total revenue\n",
    "total_revenue = df[\"Price\"].sum()\n",
    "total_revenue\n",
    "\n",
    "#dataframe formatting\n",
    "dataframe = pd.DataFrame({\"Number of Unique Items\": [unique_items], \"Average Price\": [average_price], \"Number of Purchases\": [purchases], \"Total Revenue\": [total_revenue]})\n",
    "dataframe\n",
    "\n",
    "data_format = dataframe.style.format({\"Average Price\": \"${:.2f}\", \"Total Revenue\": \"${:,.2f}\"})\n",
    "data_format\n"
   ]
  },
  {
   "cell_type": "markdown",
   "metadata": {},
   "source": [
    "## Gender Demographics"
   ]
  },
  {
   "cell_type": "markdown",
   "metadata": {},
   "source": [
    "* Percentage and Count of Male Players\n",
    "\n",
    "\n",
    "* Percentage and Count of Female Players\n",
    "\n",
    "\n",
    "* Percentage and Count of Other / Non-Disclosed\n",
    "\n",
    "\n"
   ]
  },
  {
   "cell_type": "code",
   "execution_count": 5,
   "metadata": {},
   "outputs": [
    {
     "data": {
      "text/html": [
       "<style  type=\"text/css\" >\n",
       "</style>  \n",
       "<table id=\"T_fd11937a_a894_11e8_9309_f45c89926a93\" > \n",
       "<thead>    <tr> \n",
       "        <th class=\"blank level0\" ></th> \n",
       "        <th class=\"col_heading level0 col0\" >Total count</th> \n",
       "        <th class=\"col_heading level0 col1\" >Percentage by gender</th> \n",
       "    </tr></thead> \n",
       "<tbody>    <tr> \n",
       "        <th id=\"T_fd11937a_a894_11e8_9309_f45c89926a93level0_row0\" class=\"row_heading level0 row0\" >Male</th> \n",
       "        <td id=\"T_fd11937a_a894_11e8_9309_f45c89926a93row0_col0\" class=\"data row0 col0\" >484</td> \n",
       "        <td id=\"T_fd11937a_a894_11e8_9309_f45c89926a93row0_col1\" class=\"data row0 col1\" >84.03%</td> \n",
       "    </tr>    <tr> \n",
       "        <th id=\"T_fd11937a_a894_11e8_9309_f45c89926a93level0_row1\" class=\"row_heading level0 row1\" >Female</th> \n",
       "        <td id=\"T_fd11937a_a894_11e8_9309_f45c89926a93row1_col0\" class=\"data row1 col0\" >81</td> \n",
       "        <td id=\"T_fd11937a_a894_11e8_9309_f45c89926a93row1_col1\" class=\"data row1 col1\" >14.06%</td> \n",
       "    </tr>    <tr> \n",
       "        <th id=\"T_fd11937a_a894_11e8_9309_f45c89926a93level0_row2\" class=\"row_heading level0 row2\" >Other / Non-Disclosed</th> \n",
       "        <td id=\"T_fd11937a_a894_11e8_9309_f45c89926a93row2_col0\" class=\"data row2 col0\" >11</td> \n",
       "        <td id=\"T_fd11937a_a894_11e8_9309_f45c89926a93row2_col1\" class=\"data row2 col1\" >1.91%</td> \n",
       "    </tr></tbody> \n",
       "</table> "
      ],
      "text/plain": [
       "<pandas.io.formats.style.Styler at 0x10253d400>"
      ]
     },
     "execution_count": 5,
     "metadata": {},
     "output_type": "execute_result"
    }
   ],
   "source": [
    "#drop duplicates\n",
    "drop_d = df.drop_duplicates(['SN'], keep='last')\n",
    "\n",
    "#total gender count\n",
    "gender_count = drop_d[\"Gender\"].value_counts()\n",
    "gender_count\n",
    "\n",
    "gender = drop_d[\"Gender\"].count()\n",
    "gender\n",
    "\n",
    "#calculate percentage by gender\n",
    "percentage = round((gender_count/gender)*100, 2)\n",
    "percentage\n",
    "\n",
    "#dataframe formatting\n",
    "dataframe = pd.DataFrame({\"Total count\": gender_count, \"Percentage by gender\": percentage})\n",
    "dataframe\n",
    "\n",
    "data_format = dataframe.style.format({\"Percentage by gender\": \"{:.2f}%\"})\n",
    "data_format"
   ]
  },
  {
   "cell_type": "markdown",
   "metadata": {},
   "source": [
    "\n",
    "## Purchasing Analysis (Gender)"
   ]
  },
  {
   "cell_type": "markdown",
   "metadata": {},
   "source": [
    "* Run basic calculations to obtain purchase count, avg. purchase price, avg. purchase total per person etc. by gender\n",
    "\n",
    "\n",
    "\n",
    "\n",
    "* Create a summary data frame to hold the results\n",
    "\n",
    "\n",
    "* Optional: give the displayed data cleaner formatting\n",
    "\n",
    "\n",
    "* Display the summary data frame"
   ]
  },
  {
   "cell_type": "code",
   "execution_count": 6,
   "metadata": {},
   "outputs": [
    {
     "data": {
      "text/html": [
       "<style  type=\"text/css\" >\n",
       "</style>  \n",
       "<table id=\"T_fdaceab6_a894_11e8_a212_f45c89926a93\" > \n",
       "<thead>    <tr> \n",
       "        <th class=\"blank level0\" ></th> \n",
       "        <th class=\"col_heading level0 col0\" >Purchase Count</th> \n",
       "        <th class=\"col_heading level0 col1\" >Average Purchase Price</th> \n",
       "        <th class=\"col_heading level0 col2\" >Total Purchase Value</th> \n",
       "        <th class=\"col_heading level0 col3\" >Avg Total Purchase per Person</th> \n",
       "    </tr>    <tr> \n",
       "        <th class=\"index_name level0\" >Gender</th> \n",
       "        <th class=\"blank\" ></th> \n",
       "        <th class=\"blank\" ></th> \n",
       "        <th class=\"blank\" ></th> \n",
       "        <th class=\"blank\" ></th> \n",
       "    </tr></thead> \n",
       "<tbody>    <tr> \n",
       "        <th id=\"T_fdaceab6_a894_11e8_a212_f45c89926a93level0_row0\" class=\"row_heading level0 row0\" >Female</th> \n",
       "        <td id=\"T_fdaceab6_a894_11e8_a212_f45c89926a93row0_col0\" class=\"data row0 col0\" >113</td> \n",
       "        <td id=\"T_fdaceab6_a894_11e8_a212_f45c89926a93row0_col1\" class=\"data row0 col1\" >$3.20</td> \n",
       "        <td id=\"T_fdaceab6_a894_11e8_a212_f45c89926a93row0_col2\" class=\"data row0 col2\" >$361.94</td> \n",
       "        <td id=\"T_fdaceab6_a894_11e8_a212_f45c89926a93row0_col3\" class=\"data row0 col3\" >$4.47</td> \n",
       "    </tr>    <tr> \n",
       "        <th id=\"T_fdaceab6_a894_11e8_a212_f45c89926a93level0_row1\" class=\"row_heading level0 row1\" >Male</th> \n",
       "        <td id=\"T_fdaceab6_a894_11e8_a212_f45c89926a93row1_col0\" class=\"data row1 col0\" >652</td> \n",
       "        <td id=\"T_fdaceab6_a894_11e8_a212_f45c89926a93row1_col1\" class=\"data row1 col1\" >$3.02</td> \n",
       "        <td id=\"T_fdaceab6_a894_11e8_a212_f45c89926a93row1_col2\" class=\"data row1 col2\" >$1,967.64</td> \n",
       "        <td id=\"T_fdaceab6_a894_11e8_a212_f45c89926a93row1_col3\" class=\"data row1 col3\" >$4.07</td> \n",
       "    </tr>    <tr> \n",
       "        <th id=\"T_fdaceab6_a894_11e8_a212_f45c89926a93level0_row2\" class=\"row_heading level0 row2\" >Other / Non-Disclosed</th> \n",
       "        <td id=\"T_fdaceab6_a894_11e8_a212_f45c89926a93row2_col0\" class=\"data row2 col0\" >15</td> \n",
       "        <td id=\"T_fdaceab6_a894_11e8_a212_f45c89926a93row2_col1\" class=\"data row2 col1\" >$3.35</td> \n",
       "        <td id=\"T_fdaceab6_a894_11e8_a212_f45c89926a93row2_col2\" class=\"data row2 col2\" >$50.19</td> \n",
       "        <td id=\"T_fdaceab6_a894_11e8_a212_f45c89926a93row2_col3\" class=\"data row2 col3\" >$4.56</td> \n",
       "    </tr></tbody> \n",
       "</table> "
      ],
      "text/plain": [
       "<pandas.io.formats.style.Styler at 0x107a1b860>"
      ]
     },
     "execution_count": 6,
     "metadata": {},
     "output_type": "execute_result"
    }
   ],
   "source": [
    "#groupby data with gender\n",
    "g_group = df.groupby('Gender')\n",
    "g_group\n",
    "g_group.count()\n",
    "\n",
    "#calculate Purchase Count\n",
    "purchase_count = g_group['Item Name'].count()\n",
    "purchase_count\n",
    "\n",
    "#find Average Purchase Price\n",
    "avg_price = round(g_group['Price'].mean(), 2)\n",
    "avg_price\n",
    "\n",
    "#find Total Purchase Price\n",
    "total_value = g_group['Price'].sum()\n",
    "total_value\n",
    "\n",
    "#drop duplicates\n",
    "drop_d = df.drop_duplicates(['SN'], keep='last')\n",
    "\n",
    "gender = drop_d[\"Gender\"].value_counts()\n",
    "gender\n",
    "\n",
    "#calculate Avg Total Purchase per Person\n",
    "avg_per_person = round(total_value/gender, 2)\n",
    "avg_per_person\n",
    "\n",
    "#dataframe formatting\n",
    "dataframe = pd.DataFrame({\"Purchase Count\": purchase_count, \"Average Purchase Price\": avg_price, \"Total Purchase Value\": total_value, \"Avg Total Purchase per Person\": avg_per_person})\n",
    "dataframe\n",
    "\n",
    "data_format = dataframe.style.format({\"Average Purchase Price\": \"${:.2f}\", \"Total Purchase Value\": \"${:,.2f}\", \"Avg Total Purchase per Person\": \"${:.2f}\"})\n",
    "data_format\n"
   ]
  },
  {
   "cell_type": "markdown",
   "metadata": {},
   "source": [
    "## Age Demographics"
   ]
  },
  {
   "cell_type": "markdown",
   "metadata": {},
   "source": [
    "* Establish bins for ages\n",
    "\n",
    "\n",
    "* Categorize the existing players using the age bins. Hint: use pd.cut()\n",
    "\n",
    "\n",
    "* Calculate the numbers and percentages by age group\n",
    "\n",
    "\n",
    "* Create a summary data frame to hold the results\n",
    "\n",
    "\n",
    "* Optional: round the percentage column to two decimal points\n",
    "\n",
    "\n",
    "* Display Age Demographics Table\n"
   ]
  },
  {
   "cell_type": "code",
   "execution_count": 7,
   "metadata": {},
   "outputs": [
    {
     "data": {
      "text/html": [
       "<style  type=\"text/css\" >\n",
       "</style>  \n",
       "<table id=\"T_fe8c831a_a894_11e8_92bf_f45c89926a93\" > \n",
       "<thead>    <tr> \n",
       "        <th class=\"blank level0\" ></th> \n",
       "        <th class=\"col_heading level0 col0\" >Total Count</th> \n",
       "        <th class=\"col_heading level0 col1\" >Percentage of Players</th> \n",
       "    </tr></thead> \n",
       "<tbody>    <tr> \n",
       "        <th id=\"T_fe8c831a_a894_11e8_92bf_f45c89926a93level0_row0\" class=\"row_heading level0 row0\" >40+</th> \n",
       "        <td id=\"T_fe8c831a_a894_11e8_92bf_f45c89926a93row0_col0\" class=\"data row0 col0\" >12</td> \n",
       "        <td id=\"T_fe8c831a_a894_11e8_92bf_f45c89926a93row0_col1\" class=\"data row0 col1\" >2.08%</td> \n",
       "    </tr>    <tr> \n",
       "        <th id=\"T_fe8c831a_a894_11e8_92bf_f45c89926a93level0_row1\" class=\"row_heading level0 row1\" ><10</th> \n",
       "        <td id=\"T_fe8c831a_a894_11e8_92bf_f45c89926a93row1_col0\" class=\"data row1 col0\" >17</td> \n",
       "        <td id=\"T_fe8c831a_a894_11e8_92bf_f45c89926a93row1_col1\" class=\"data row1 col1\" >2.95%</td> \n",
       "    </tr>    <tr> \n",
       "        <th id=\"T_fe8c831a_a894_11e8_92bf_f45c89926a93level0_row2\" class=\"row_heading level0 row2\" >10-14</th> \n",
       "        <td id=\"T_fe8c831a_a894_11e8_92bf_f45c89926a93row2_col0\" class=\"data row2 col0\" >22</td> \n",
       "        <td id=\"T_fe8c831a_a894_11e8_92bf_f45c89926a93row2_col1\" class=\"data row2 col1\" >3.82%</td> \n",
       "    </tr>    <tr> \n",
       "        <th id=\"T_fe8c831a_a894_11e8_92bf_f45c89926a93level0_row3\" class=\"row_heading level0 row3\" >35-39</th> \n",
       "        <td id=\"T_fe8c831a_a894_11e8_92bf_f45c89926a93row3_col0\" class=\"data row3 col0\" >31</td> \n",
       "        <td id=\"T_fe8c831a_a894_11e8_92bf_f45c89926a93row3_col1\" class=\"data row3 col1\" >5.38%</td> \n",
       "    </tr>    <tr> \n",
       "        <th id=\"T_fe8c831a_a894_11e8_92bf_f45c89926a93level0_row4\" class=\"row_heading level0 row4\" >30-34</th> \n",
       "        <td id=\"T_fe8c831a_a894_11e8_92bf_f45c89926a93row4_col0\" class=\"data row4 col0\" >52</td> \n",
       "        <td id=\"T_fe8c831a_a894_11e8_92bf_f45c89926a93row4_col1\" class=\"data row4 col1\" >9.03%</td> \n",
       "    </tr>    <tr> \n",
       "        <th id=\"T_fe8c831a_a894_11e8_92bf_f45c89926a93level0_row5\" class=\"row_heading level0 row5\" >25-29</th> \n",
       "        <td id=\"T_fe8c831a_a894_11e8_92bf_f45c89926a93row5_col0\" class=\"data row5 col0\" >77</td> \n",
       "        <td id=\"T_fe8c831a_a894_11e8_92bf_f45c89926a93row5_col1\" class=\"data row5 col1\" >13.37%</td> \n",
       "    </tr>    <tr> \n",
       "        <th id=\"T_fe8c831a_a894_11e8_92bf_f45c89926a93level0_row6\" class=\"row_heading level0 row6\" >15-19</th> \n",
       "        <td id=\"T_fe8c831a_a894_11e8_92bf_f45c89926a93row6_col0\" class=\"data row6 col0\" >107</td> \n",
       "        <td id=\"T_fe8c831a_a894_11e8_92bf_f45c89926a93row6_col1\" class=\"data row6 col1\" >18.58%</td> \n",
       "    </tr>    <tr> \n",
       "        <th id=\"T_fe8c831a_a894_11e8_92bf_f45c89926a93level0_row7\" class=\"row_heading level0 row7\" >20-24</th> \n",
       "        <td id=\"T_fe8c831a_a894_11e8_92bf_f45c89926a93row7_col0\" class=\"data row7 col0\" >258</td> \n",
       "        <td id=\"T_fe8c831a_a894_11e8_92bf_f45c89926a93row7_col1\" class=\"data row7 col1\" >44.79%</td> \n",
       "    </tr></tbody> \n",
       "</table> "
      ],
      "text/plain": [
       "<pandas.io.formats.style.Styler at 0x1079a8278>"
      ]
     },
     "execution_count": 7,
     "metadata": {},
     "output_type": "execute_result"
    }
   ],
   "source": [
    "# Create age bins\n",
    "bins = [0, 9.9, 14.9, 19.9, 24.9, 29.9, 34.9, 39.9, 99.9]\n",
    "\n",
    "# Create labels for these bins\n",
    "group_labels = ['<10', '10-14', '15-19', '20-24', '25-29', '30-34', '35-39', '40+']\n",
    "\n",
    "# Slice the data and place it into bins\n",
    "pd.cut(df[\"Age\"], bins, labels=group_labels).head()\n",
    "\n",
    "# Place the data series into a new column inside of the DataFrame\n",
    "df[\"Age Group\"] = pd.cut(df[\"Age\"], bins, labels=group_labels)\n",
    "df.head()\n",
    "\n",
    "# Drop duplicates\n",
    "drop_d = df.drop_duplicates(['SN'], keep='last')\n",
    "\n",
    "# Groupby Age Group\n",
    "df_group = drop_d.groupby(\"Age Group\")\n",
    "\n",
    "# Calculate total count\n",
    "total_count = drop_d[\"Age Group\"].value_counts()\n",
    "total_count\n",
    "\n",
    "count = drop_d['SN'].count()\n",
    "count\n",
    "\n",
    "# Calculate percentage of players\n",
    "percentage = round((total_count/count)*100, 2)\n",
    "percentage\n",
    "\n",
    "# Dataframe formatting and sorting by total count\n",
    "dataframe = pd.DataFrame({\"Total Count\": total_count, \"Percentage of Players\": percentage})\n",
    "dataframe\n",
    "\n",
    "dataframe = dataframe.sort_values(\"Total Count\", ascending=True)\n",
    "dataframe\n",
    "\n",
    "data_format = dataframe.style.format({\"Percentage of Players\": \"{:.2f}%\"})\n",
    "data_format\n",
    "\n"
   ]
  },
  {
   "cell_type": "markdown",
   "metadata": {},
   "source": [
    "## Purchasing Analysis (Age)"
   ]
  },
  {
   "cell_type": "markdown",
   "metadata": {},
   "source": [
    "* Bin the purchase_data data frame by age\n",
    "\n",
    "\n",
    "* Run basic calculations to obtain purchase count, avg. purchase price, avg. purchase total per person etc. in the table below\n",
    "\n",
    "\n",
    "* Create a summary data frame to hold the results\n",
    "\n",
    "\n",
    "* Optional: give the displayed data cleaner formatting\n",
    "\n",
    "\n",
    "* Display the summary data frame"
   ]
  },
  {
   "cell_type": "code",
   "execution_count": 8,
   "metadata": {},
   "outputs": [
    {
     "data": {
      "text/html": [
       "<style  type=\"text/css\" >\n",
       "</style>  \n",
       "<table id=\"T_ff7de1c6_a894_11e8_8e33_f45c89926a93\" > \n",
       "<thead>    <tr> \n",
       "        <th class=\"blank level0\" ></th> \n",
       "        <th class=\"col_heading level0 col0\" >Purchase Count</th> \n",
       "        <th class=\"col_heading level0 col1\" >Average Purchase Price</th> \n",
       "        <th class=\"col_heading level0 col2\" >total Purchase Value</th> \n",
       "        <th class=\"col_heading level0 col3\" >Avg Total Purchase per person</th> \n",
       "    </tr></thead> \n",
       "<tbody>    <tr> \n",
       "        <th id=\"T_ff7de1c6_a894_11e8_8e33_f45c89926a93level0_row0\" class=\"row_heading level0 row0\" >10-14</th> \n",
       "        <td id=\"T_ff7de1c6_a894_11e8_8e33_f45c89926a93row0_col0\" class=\"data row0 col0\" >28</td> \n",
       "        <td id=\"T_ff7de1c6_a894_11e8_8e33_f45c89926a93row0_col1\" class=\"data row0 col1\" >$2.96</td> \n",
       "        <td id=\"T_ff7de1c6_a894_11e8_8e33_f45c89926a93row0_col2\" class=\"data row0 col2\" >$82.78</td> \n",
       "        <td id=\"T_ff7de1c6_a894_11e8_8e33_f45c89926a93row0_col3\" class=\"data row0 col3\" >$3.76</td> \n",
       "    </tr>    <tr> \n",
       "        <th id=\"T_ff7de1c6_a894_11e8_8e33_f45c89926a93level0_row1\" class=\"row_heading level0 row1\" >15-19</th> \n",
       "        <td id=\"T_ff7de1c6_a894_11e8_8e33_f45c89926a93row1_col0\" class=\"data row1 col0\" >136</td> \n",
       "        <td id=\"T_ff7de1c6_a894_11e8_8e33_f45c89926a93row1_col1\" class=\"data row1 col1\" >$3.04</td> \n",
       "        <td id=\"T_ff7de1c6_a894_11e8_8e33_f45c89926a93row1_col2\" class=\"data row1 col2\" >$412.89</td> \n",
       "        <td id=\"T_ff7de1c6_a894_11e8_8e33_f45c89926a93row1_col3\" class=\"data row1 col3\" >$3.86</td> \n",
       "    </tr>    <tr> \n",
       "        <th id=\"T_ff7de1c6_a894_11e8_8e33_f45c89926a93level0_row2\" class=\"row_heading level0 row2\" >20-24</th> \n",
       "        <td id=\"T_ff7de1c6_a894_11e8_8e33_f45c89926a93row2_col0\" class=\"data row2 col0\" >365</td> \n",
       "        <td id=\"T_ff7de1c6_a894_11e8_8e33_f45c89926a93row2_col1\" class=\"data row2 col1\" >$3.05</td> \n",
       "        <td id=\"T_ff7de1c6_a894_11e8_8e33_f45c89926a93row2_col2\" class=\"data row2 col2\" >$1,114.06</td> \n",
       "        <td id=\"T_ff7de1c6_a894_11e8_8e33_f45c89926a93row2_col3\" class=\"data row2 col3\" >$4.32</td> \n",
       "    </tr>    <tr> \n",
       "        <th id=\"T_ff7de1c6_a894_11e8_8e33_f45c89926a93level0_row3\" class=\"row_heading level0 row3\" >25-29</th> \n",
       "        <td id=\"T_ff7de1c6_a894_11e8_8e33_f45c89926a93row3_col0\" class=\"data row3 col0\" >101</td> \n",
       "        <td id=\"T_ff7de1c6_a894_11e8_8e33_f45c89926a93row3_col1\" class=\"data row3 col1\" >$2.90</td> \n",
       "        <td id=\"T_ff7de1c6_a894_11e8_8e33_f45c89926a93row3_col2\" class=\"data row3 col2\" >$293.00</td> \n",
       "        <td id=\"T_ff7de1c6_a894_11e8_8e33_f45c89926a93row3_col3\" class=\"data row3 col3\" >$3.81</td> \n",
       "    </tr>    <tr> \n",
       "        <th id=\"T_ff7de1c6_a894_11e8_8e33_f45c89926a93level0_row4\" class=\"row_heading level0 row4\" >30-34</th> \n",
       "        <td id=\"T_ff7de1c6_a894_11e8_8e33_f45c89926a93row4_col0\" class=\"data row4 col0\" >73</td> \n",
       "        <td id=\"T_ff7de1c6_a894_11e8_8e33_f45c89926a93row4_col1\" class=\"data row4 col1\" >$2.93</td> \n",
       "        <td id=\"T_ff7de1c6_a894_11e8_8e33_f45c89926a93row4_col2\" class=\"data row4 col2\" >$214.00</td> \n",
       "        <td id=\"T_ff7de1c6_a894_11e8_8e33_f45c89926a93row4_col3\" class=\"data row4 col3\" >$4.12</td> \n",
       "    </tr>    <tr> \n",
       "        <th id=\"T_ff7de1c6_a894_11e8_8e33_f45c89926a93level0_row5\" class=\"row_heading level0 row5\" >35-39</th> \n",
       "        <td id=\"T_ff7de1c6_a894_11e8_8e33_f45c89926a93row5_col0\" class=\"data row5 col0\" >41</td> \n",
       "        <td id=\"T_ff7de1c6_a894_11e8_8e33_f45c89926a93row5_col1\" class=\"data row5 col1\" >$3.60</td> \n",
       "        <td id=\"T_ff7de1c6_a894_11e8_8e33_f45c89926a93row5_col2\" class=\"data row5 col2\" >$147.67</td> \n",
       "        <td id=\"T_ff7de1c6_a894_11e8_8e33_f45c89926a93row5_col3\" class=\"data row5 col3\" >$4.76</td> \n",
       "    </tr>    <tr> \n",
       "        <th id=\"T_ff7de1c6_a894_11e8_8e33_f45c89926a93level0_row6\" class=\"row_heading level0 row6\" >40+</th> \n",
       "        <td id=\"T_ff7de1c6_a894_11e8_8e33_f45c89926a93row6_col0\" class=\"data row6 col0\" >13</td> \n",
       "        <td id=\"T_ff7de1c6_a894_11e8_8e33_f45c89926a93row6_col1\" class=\"data row6 col1\" >$2.94</td> \n",
       "        <td id=\"T_ff7de1c6_a894_11e8_8e33_f45c89926a93row6_col2\" class=\"data row6 col2\" >$38.24</td> \n",
       "        <td id=\"T_ff7de1c6_a894_11e8_8e33_f45c89926a93row6_col3\" class=\"data row6 col3\" >$3.19</td> \n",
       "    </tr>    <tr> \n",
       "        <th id=\"T_ff7de1c6_a894_11e8_8e33_f45c89926a93level0_row7\" class=\"row_heading level0 row7\" ><10</th> \n",
       "        <td id=\"T_ff7de1c6_a894_11e8_8e33_f45c89926a93row7_col0\" class=\"data row7 col0\" >23</td> \n",
       "        <td id=\"T_ff7de1c6_a894_11e8_8e33_f45c89926a93row7_col1\" class=\"data row7 col1\" >$3.35</td> \n",
       "        <td id=\"T_ff7de1c6_a894_11e8_8e33_f45c89926a93row7_col2\" class=\"data row7 col2\" >$77.13</td> \n",
       "        <td id=\"T_ff7de1c6_a894_11e8_8e33_f45c89926a93row7_col3\" class=\"data row7 col3\" >$4.54</td> \n",
       "    </tr></tbody> \n",
       "</table> "
      ],
      "text/plain": [
       "<pandas.io.formats.style.Styler at 0x10f5237b8>"
      ]
     },
     "execution_count": 8,
     "metadata": {},
     "output_type": "execute_result"
    }
   ],
   "source": [
    "# Create age bins\n",
    "bins = [0, 9.9, 14.9, 19.9, 24.9, 29.9, 34.9, 39.9, 99.9]\n",
    "\n",
    "# Create labels for these bins\n",
    "group_labels = ['<10', '10-14', '15-19', '20-24', '25-29', '30-34', '35-39', '40+']\n",
    "\n",
    "# Slice the data and place it into bins\n",
    "pd.cut(df[\"Age\"], bins, labels=group_labels).head()\n",
    "\n",
    "# Place the data series into a new column inside of the DataFrame\n",
    "df[\"Age Group\"] = pd.cut(df[\"Age\"], bins, labels=group_labels)\n",
    "df.head()\n",
    "\n",
    "# Groupby Age Group\n",
    "df_group = df.groupby(\"Age Group\")\n",
    "\n",
    "# Calculate purchase count\n",
    "purchase_count = df_group['Item Name'].count()\n",
    "purchase_count\n",
    "\n",
    "# Calculate average purchase\n",
    "avg_purchase = round(df_group['Price'].mean(), 2)\n",
    "avg_purchase\n",
    "\n",
    "# Calculate total purchase\n",
    "total_purchase = df_group['Price'].sum()\n",
    "total_purchase\n",
    "\n",
    "# Calculate average total purchase per person\n",
    "avg_per_person = round(total_purchase/total_count, 2)\n",
    "avg_per_person\n",
    "\n",
    "# Dataframe formatting\n",
    "dataframe = pd.DataFrame({\"Purchase Count\": purchase_count, \"Average Purchase Price\": avg_purchase, \"total Purchase Value\": total_purchase, \"Avg Total Purchase per person\": avg_per_person})\n",
    "dataframe\n",
    "\n",
    "data_format = dataframe.style.format({\"Average Purchase Price\": \"${:.2f}\", \"total Purchase Value\": \"${:,.2f}\", \"Avg Total Purchase per person\": \"${:.2f}\"})\n",
    "data_format\n"
   ]
  },
  {
   "cell_type": "markdown",
   "metadata": {},
   "source": [
    "## Top Spenders"
   ]
  },
  {
   "cell_type": "markdown",
   "metadata": {},
   "source": [
    "* Run basic calculations to obtain the results in the table below\n",
    "\n",
    "\n",
    "* Create a summary data frame to hold the results\n",
    "\n",
    "\n",
    "* Sort the total purchase value column in descending order\n",
    "\n",
    "\n",
    "* Optional: give the displayed data cleaner formatting\n",
    "\n",
    "\n",
    "* Display a preview of the summary data frame\n",
    "\n"
   ]
  },
  {
   "cell_type": "code",
   "execution_count": 173,
   "metadata": {},
   "outputs": [
    {
     "data": {
      "text/html": [
       "<style  type=\"text/css\" >\n",
       "</style>  \n",
       "<table id=\"T_c8c94834_a86d_11e8_abf7_f45c89926a93\" > \n",
       "<thead>    <tr> \n",
       "        <th class=\"blank level0\" ></th> \n",
       "        <th class=\"col_heading level0 col0\" >Purchase Count</th> \n",
       "        <th class=\"col_heading level0 col1\" >Average Purchase Price</th> \n",
       "        <th class=\"col_heading level0 col2\" >Total Purchase Value</th> \n",
       "    </tr>    <tr> \n",
       "        <th class=\"index_name level0\" >SN</th> \n",
       "        <th class=\"blank\" ></th> \n",
       "        <th class=\"blank\" ></th> \n",
       "        <th class=\"blank\" ></th> \n",
       "    </tr></thead> \n",
       "<tbody>    <tr> \n",
       "        <th id=\"T_c8c94834_a86d_11e8_abf7_f45c89926a93level0_row0\" class=\"row_heading level0 row0\" >Lisosia93</th> \n",
       "        <td id=\"T_c8c94834_a86d_11e8_abf7_f45c89926a93row0_col0\" class=\"data row0 col0\" >5</td> \n",
       "        <td id=\"T_c8c94834_a86d_11e8_abf7_f45c89926a93row0_col1\" class=\"data row0 col1\" >$3.79</td> \n",
       "        <td id=\"T_c8c94834_a86d_11e8_abf7_f45c89926a93row0_col2\" class=\"data row0 col2\" >$18.96</td> \n",
       "    </tr>    <tr> \n",
       "        <th id=\"T_c8c94834_a86d_11e8_abf7_f45c89926a93level0_row1\" class=\"row_heading level0 row1\" >Idastidru52</th> \n",
       "        <td id=\"T_c8c94834_a86d_11e8_abf7_f45c89926a93row1_col0\" class=\"data row1 col0\" >4</td> \n",
       "        <td id=\"T_c8c94834_a86d_11e8_abf7_f45c89926a93row1_col1\" class=\"data row1 col1\" >$3.86</td> \n",
       "        <td id=\"T_c8c94834_a86d_11e8_abf7_f45c89926a93row1_col2\" class=\"data row1 col2\" >$15.45</td> \n",
       "    </tr>    <tr> \n",
       "        <th id=\"T_c8c94834_a86d_11e8_abf7_f45c89926a93level0_row2\" class=\"row_heading level0 row2\" >Chamjask73</th> \n",
       "        <td id=\"T_c8c94834_a86d_11e8_abf7_f45c89926a93row2_col0\" class=\"data row2 col0\" >3</td> \n",
       "        <td id=\"T_c8c94834_a86d_11e8_abf7_f45c89926a93row2_col1\" class=\"data row2 col1\" >$4.61</td> \n",
       "        <td id=\"T_c8c94834_a86d_11e8_abf7_f45c89926a93row2_col2\" class=\"data row2 col2\" >$13.83</td> \n",
       "    </tr>    <tr> \n",
       "        <th id=\"T_c8c94834_a86d_11e8_abf7_f45c89926a93level0_row3\" class=\"row_heading level0 row3\" >Iral74</th> \n",
       "        <td id=\"T_c8c94834_a86d_11e8_abf7_f45c89926a93row3_col0\" class=\"data row3 col0\" >4</td> \n",
       "        <td id=\"T_c8c94834_a86d_11e8_abf7_f45c89926a93row3_col1\" class=\"data row3 col1\" >$3.40</td> \n",
       "        <td id=\"T_c8c94834_a86d_11e8_abf7_f45c89926a93row3_col2\" class=\"data row3 col2\" >$13.62</td> \n",
       "    </tr>    <tr> \n",
       "        <th id=\"T_c8c94834_a86d_11e8_abf7_f45c89926a93level0_row4\" class=\"row_heading level0 row4\" >Iskadarya95</th> \n",
       "        <td id=\"T_c8c94834_a86d_11e8_abf7_f45c89926a93row4_col0\" class=\"data row4 col0\" >3</td> \n",
       "        <td id=\"T_c8c94834_a86d_11e8_abf7_f45c89926a93row4_col1\" class=\"data row4 col1\" >$4.37</td> \n",
       "        <td id=\"T_c8c94834_a86d_11e8_abf7_f45c89926a93row4_col2\" class=\"data row4 col2\" >$13.10</td> \n",
       "    </tr></tbody> \n",
       "</table> "
      ],
      "text/plain": [
       "<pandas.io.formats.style.Styler at 0x110bbb4e0>"
      ]
     },
     "execution_count": 173,
     "metadata": {},
     "output_type": "execute_result"
    }
   ],
   "source": [
    "#groupby data SN\n",
    "df_group = df.groupby('SN')\n",
    "\n",
    "#total purchase count\n",
    "purchase_count = df_group['Item Name'].count()\n",
    "purchase_count.head()\n",
    "\n",
    "#calculate average price\n",
    "avg_price = round(df_group['Price'].mean(), 2)\n",
    "avg_price.head()\n",
    "\n",
    "#find total purchase value\n",
    "total_purchase = df_group['Price'].sum()\n",
    "total_purchase.head()\n",
    "\n",
    "##dataframe formatting and sorting by total purchase value\n",
    "dataframe = pd.DataFrame({\"Purchase Count\": purchase_count, \"Average Purchase Price\": avg_price, \"Total Purchase Value\": total_purchase})\n",
    "dataframe\n",
    "\n",
    "dataframe = dataframe.sort_values(\"Total Purchase Value\", ascending=False)\n",
    "\n",
    "data_format = dataframe.head().style.format({\"Average Purchase Price\": \"${:.2f}\", \"Total Purchase Value\": \"${:.2f}\"})\n",
    "data_format"
   ]
  },
  {
   "cell_type": "markdown",
   "metadata": {},
   "source": [
    "## Most Popular Items"
   ]
  },
  {
   "cell_type": "markdown",
   "metadata": {},
   "source": [
    "* Retrieve the Item ID, Item Name, and Item Price columns\n",
    "\n",
    "\n",
    "* Group by Item ID and Item Name. Perform calculations to obtain purchase count, item price, and total purchase value\n",
    "\n",
    "\n",
    "* Create a summary data frame to hold the results\n",
    "\n",
    "\n",
    "* Sort the purchase count column in descending order\n",
    "\n",
    "\n",
    "* Optional: give the displayed data cleaner formatting\n",
    "\n",
    "\n",
    "* Display a preview of the summary data frame\n",
    "\n"
   ]
  },
  {
   "cell_type": "code",
   "execution_count": 212,
   "metadata": {},
   "outputs": [
    {
     "data": {
      "text/html": [
       "<style  type=\"text/css\" >\n",
       "</style>  \n",
       "<table id=\"T_661ffe00_a875_11e8_a529_f45c89926a93\" > \n",
       "<thead>    <tr> \n",
       "        <th class=\"blank\" ></th> \n",
       "        <th class=\"blank level0\" ></th> \n",
       "        <th class=\"col_heading level0 col0\" >Purchase Count</th> \n",
       "        <th class=\"col_heading level0 col1\" >Item Price</th> \n",
       "        <th class=\"col_heading level0 col2\" >Total Purchase Value</th> \n",
       "    </tr>    <tr> \n",
       "        <th class=\"index_name level0\" >Item ID</th> \n",
       "        <th class=\"index_name level1\" >Item Name</th> \n",
       "        <th class=\"blank\" ></th> \n",
       "        <th class=\"blank\" ></th> \n",
       "        <th class=\"blank\" ></th> \n",
       "    </tr></thead> \n",
       "<tbody>    <tr> \n",
       "        <th id=\"T_661ffe00_a875_11e8_a529_f45c89926a93level0_row0\" class=\"row_heading level0 row0\" >178</th> \n",
       "        <th id=\"T_661ffe00_a875_11e8_a529_f45c89926a93level1_row0\" class=\"row_heading level1 row0\" >Oathbreaker, Last Hope of the Breaking Storm</th> \n",
       "        <td id=\"T_661ffe00_a875_11e8_a529_f45c89926a93row0_col0\" class=\"data row0 col0\" >12</td> \n",
       "        <td id=\"T_661ffe00_a875_11e8_a529_f45c89926a93row0_col1\" class=\"data row0 col1\" >$4.23</td> \n",
       "        <td id=\"T_661ffe00_a875_11e8_a529_f45c89926a93row0_col2\" class=\"data row0 col2\" >$50.76</td> \n",
       "    </tr>    <tr> \n",
       "        <th id=\"T_661ffe00_a875_11e8_a529_f45c89926a93level0_row1\" class=\"row_heading level0 row1\" >145</th> \n",
       "        <th id=\"T_661ffe00_a875_11e8_a529_f45c89926a93level1_row1\" class=\"row_heading level1 row1\" >Fiery Glass Crusader</th> \n",
       "        <td id=\"T_661ffe00_a875_11e8_a529_f45c89926a93row1_col0\" class=\"data row1 col0\" >9</td> \n",
       "        <td id=\"T_661ffe00_a875_11e8_a529_f45c89926a93row1_col1\" class=\"data row1 col1\" >$4.58</td> \n",
       "        <td id=\"T_661ffe00_a875_11e8_a529_f45c89926a93row1_col2\" class=\"data row1 col2\" >$41.22</td> \n",
       "    </tr>    <tr> \n",
       "        <th id=\"T_661ffe00_a875_11e8_a529_f45c89926a93level0_row2\" class=\"row_heading level0 row2\" >108</th> \n",
       "        <th id=\"T_661ffe00_a875_11e8_a529_f45c89926a93level1_row2\" class=\"row_heading level1 row2\" >Extraction, Quickblade Of Trembling Hands</th> \n",
       "        <td id=\"T_661ffe00_a875_11e8_a529_f45c89926a93row2_col0\" class=\"data row2 col0\" >9</td> \n",
       "        <td id=\"T_661ffe00_a875_11e8_a529_f45c89926a93row2_col1\" class=\"data row2 col1\" >$3.53</td> \n",
       "        <td id=\"T_661ffe00_a875_11e8_a529_f45c89926a93row2_col2\" class=\"data row2 col2\" >$31.77</td> \n",
       "    </tr>    <tr> \n",
       "        <th id=\"T_661ffe00_a875_11e8_a529_f45c89926a93level0_row3\" class=\"row_heading level0 row3\" >82</th> \n",
       "        <th id=\"T_661ffe00_a875_11e8_a529_f45c89926a93level1_row3\" class=\"row_heading level1 row3\" >Nirvana</th> \n",
       "        <td id=\"T_661ffe00_a875_11e8_a529_f45c89926a93row3_col0\" class=\"data row3 col0\" >9</td> \n",
       "        <td id=\"T_661ffe00_a875_11e8_a529_f45c89926a93row3_col1\" class=\"data row3 col1\" >$4.90</td> \n",
       "        <td id=\"T_661ffe00_a875_11e8_a529_f45c89926a93row3_col2\" class=\"data row3 col2\" >$44.10</td> \n",
       "    </tr>    <tr> \n",
       "        <th id=\"T_661ffe00_a875_11e8_a529_f45c89926a93level0_row4\" class=\"row_heading level0 row4\" >19</th> \n",
       "        <th id=\"T_661ffe00_a875_11e8_a529_f45c89926a93level1_row4\" class=\"row_heading level1 row4\" >Pursuit, Cudgel of Necromancy</th> \n",
       "        <td id=\"T_661ffe00_a875_11e8_a529_f45c89926a93row4_col0\" class=\"data row4 col0\" >8</td> \n",
       "        <td id=\"T_661ffe00_a875_11e8_a529_f45c89926a93row4_col1\" class=\"data row4 col1\" >$1.02</td> \n",
       "        <td id=\"T_661ffe00_a875_11e8_a529_f45c89926a93row4_col2\" class=\"data row4 col2\" >$8.16</td> \n",
       "    </tr></tbody> \n",
       "</table> "
      ],
      "text/plain": [
       "<pandas.io.formats.style.Styler at 0x110d585c0>"
      ]
     },
     "execution_count": 212,
     "metadata": {},
     "output_type": "execute_result"
    }
   ],
   "source": [
    "#groupby data Item ID and Item Name\n",
    "df_group = df.groupby(['Item ID', 'Item Name'])\n",
    "df_group\n",
    "\n",
    "#calculations to obtain purchase count, item price, and total purchase value\n",
    "purchase_count = df_group['Item ID'].count()\n",
    "purchase_count\n",
    "\n",
    "item_price = df_group['Price'].mean()\n",
    "item_price\n",
    "\n",
    "total_purchase = df_group['Price'].sum()\n",
    "total_purchase\n",
    "\n",
    "#dataframe formatting and sorting by purchase count\n",
    "dataframe = pd.DataFrame({\"Purchase Count\": purchase_count, \"Item Price\": item_price, \"Total Purchase Value\": total_purchase})\n",
    "dataframe\n",
    "\n",
    "dataframe = dataframe.sort_values(\"Purchase Count\", ascending=False)\n",
    "dataframe.head()\n",
    "\n",
    "data_format = dataframe.head().style.format({\"Item Price\": \"${:.2f}\", \"Total Purchase Value\": \"${:.2f}\"})\n",
    "data_format"
   ]
  },
  {
   "cell_type": "markdown",
   "metadata": {},
   "source": [
    "## Most Profitable Items"
   ]
  },
  {
   "cell_type": "markdown",
   "metadata": {},
   "source": [
    "* Sort the above table by total purchase value in descending order\n",
    "\n",
    "\n",
    "* Optional: give the displayed data cleaner formatting\n",
    "\n",
    "\n",
    "* Display a preview of the data frame\n",
    "\n"
   ]
  },
  {
   "cell_type": "code",
   "execution_count": 213,
   "metadata": {
    "scrolled": true
   },
   "outputs": [
    {
     "data": {
      "text/html": [
       "<style  type=\"text/css\" >\n",
       "</style>  \n",
       "<table id=\"T_ea4335da_a875_11e8_aa2a_f45c89926a93\" > \n",
       "<thead>    <tr> \n",
       "        <th class=\"blank\" ></th> \n",
       "        <th class=\"blank level0\" ></th> \n",
       "        <th class=\"col_heading level0 col0\" >Purchase Count</th> \n",
       "        <th class=\"col_heading level0 col1\" >Item Price</th> \n",
       "        <th class=\"col_heading level0 col2\" >Total Purchase Value</th> \n",
       "    </tr>    <tr> \n",
       "        <th class=\"index_name level0\" >Item ID</th> \n",
       "        <th class=\"index_name level1\" >Item Name</th> \n",
       "        <th class=\"blank\" ></th> \n",
       "        <th class=\"blank\" ></th> \n",
       "        <th class=\"blank\" ></th> \n",
       "    </tr></thead> \n",
       "<tbody>    <tr> \n",
       "        <th id=\"T_ea4335da_a875_11e8_aa2a_f45c89926a93level0_row0\" class=\"row_heading level0 row0\" >178</th> \n",
       "        <th id=\"T_ea4335da_a875_11e8_aa2a_f45c89926a93level1_row0\" class=\"row_heading level1 row0\" >Oathbreaker, Last Hope of the Breaking Storm</th> \n",
       "        <td id=\"T_ea4335da_a875_11e8_aa2a_f45c89926a93row0_col0\" class=\"data row0 col0\" >12</td> \n",
       "        <td id=\"T_ea4335da_a875_11e8_aa2a_f45c89926a93row0_col1\" class=\"data row0 col1\" >$4.23</td> \n",
       "        <td id=\"T_ea4335da_a875_11e8_aa2a_f45c89926a93row0_col2\" class=\"data row0 col2\" >$50.76</td> \n",
       "    </tr>    <tr> \n",
       "        <th id=\"T_ea4335da_a875_11e8_aa2a_f45c89926a93level0_row1\" class=\"row_heading level0 row1\" >82</th> \n",
       "        <th id=\"T_ea4335da_a875_11e8_aa2a_f45c89926a93level1_row1\" class=\"row_heading level1 row1\" >Nirvana</th> \n",
       "        <td id=\"T_ea4335da_a875_11e8_aa2a_f45c89926a93row1_col0\" class=\"data row1 col0\" >9</td> \n",
       "        <td id=\"T_ea4335da_a875_11e8_aa2a_f45c89926a93row1_col1\" class=\"data row1 col1\" >$4.90</td> \n",
       "        <td id=\"T_ea4335da_a875_11e8_aa2a_f45c89926a93row1_col2\" class=\"data row1 col2\" >$44.10</td> \n",
       "    </tr>    <tr> \n",
       "        <th id=\"T_ea4335da_a875_11e8_aa2a_f45c89926a93level0_row2\" class=\"row_heading level0 row2\" >145</th> \n",
       "        <th id=\"T_ea4335da_a875_11e8_aa2a_f45c89926a93level1_row2\" class=\"row_heading level1 row2\" >Fiery Glass Crusader</th> \n",
       "        <td id=\"T_ea4335da_a875_11e8_aa2a_f45c89926a93row2_col0\" class=\"data row2 col0\" >9</td> \n",
       "        <td id=\"T_ea4335da_a875_11e8_aa2a_f45c89926a93row2_col1\" class=\"data row2 col1\" >$4.58</td> \n",
       "        <td id=\"T_ea4335da_a875_11e8_aa2a_f45c89926a93row2_col2\" class=\"data row2 col2\" >$41.22</td> \n",
       "    </tr>    <tr> \n",
       "        <th id=\"T_ea4335da_a875_11e8_aa2a_f45c89926a93level0_row3\" class=\"row_heading level0 row3\" >92</th> \n",
       "        <th id=\"T_ea4335da_a875_11e8_aa2a_f45c89926a93level1_row3\" class=\"row_heading level1 row3\" >Final Critic</th> \n",
       "        <td id=\"T_ea4335da_a875_11e8_aa2a_f45c89926a93row3_col0\" class=\"data row3 col0\" >8</td> \n",
       "        <td id=\"T_ea4335da_a875_11e8_aa2a_f45c89926a93row3_col1\" class=\"data row3 col1\" >$4.88</td> \n",
       "        <td id=\"T_ea4335da_a875_11e8_aa2a_f45c89926a93row3_col2\" class=\"data row3 col2\" >$39.04</td> \n",
       "    </tr>    <tr> \n",
       "        <th id=\"T_ea4335da_a875_11e8_aa2a_f45c89926a93level0_row4\" class=\"row_heading level0 row4\" >103</th> \n",
       "        <th id=\"T_ea4335da_a875_11e8_aa2a_f45c89926a93level1_row4\" class=\"row_heading level1 row4\" >Singed Scalpel</th> \n",
       "        <td id=\"T_ea4335da_a875_11e8_aa2a_f45c89926a93row4_col0\" class=\"data row4 col0\" >8</td> \n",
       "        <td id=\"T_ea4335da_a875_11e8_aa2a_f45c89926a93row4_col1\" class=\"data row4 col1\" >$4.35</td> \n",
       "        <td id=\"T_ea4335da_a875_11e8_aa2a_f45c89926a93row4_col2\" class=\"data row4 col2\" >$34.80</td> \n",
       "    </tr></tbody> \n",
       "</table> "
      ],
      "text/plain": [
       "<pandas.io.formats.style.Styler at 0x110bbb1d0>"
      ]
     },
     "execution_count": 213,
     "metadata": {},
     "output_type": "execute_result"
    }
   ],
   "source": [
    "#groupby data Item ID and Item Name\n",
    "df_group = df.groupby(['Item ID', 'Item Name'])\n",
    "df_group\n",
    "\n",
    "#calculations to obtain purchase count, item price, and total purchase value\n",
    "purchase_count = df_group['Item ID'].count()\n",
    "purchase_count\n",
    "\n",
    "item_price = df_group['Price'].mean()\n",
    "item_price\n",
    "\n",
    "total_purchase = df_group['Price'].sum()\n",
    "total_purchase\n",
    "\n",
    "#dataframe formatting and sorting by total purchase value\n",
    "dataframe = pd.DataFrame({\"Purchase Count\": purchase_count, \"Item Price\": item_price, \"Total Purchase Value\": total_purchase})\n",
    "dataframe\n",
    "\n",
    "dataframe = dataframe.sort_values(\"Total Purchase Value\", ascending=False)\n",
    "dataframe.head()\n",
    "\n",
    "data_format = dataframe.head().style.format({\"Item Price\": \"${:.2f}\", \"Total Purchase Value\": \"${:.2f}\"})\n",
    "data_format"
   ]
  },
  {
   "cell_type": "code",
   "execution_count": null,
   "metadata": {},
   "outputs": [],
   "source": []
  }
 ],
 "metadata": {
  "anaconda-cloud": {},
  "kernel_info": {
   "name": "python3"
  },
  "kernelspec": {
   "display_name": "Python 3",
   "language": "python",
   "name": "python3"
  },
  "language_info": {
   "codemirror_mode": {
    "name": "ipython",
    "version": 3
   },
   "file_extension": ".py",
   "mimetype": "text/x-python",
   "name": "python",
   "nbconvert_exporter": "python",
   "pygments_lexer": "ipython3",
   "version": "3.6.5"
  },
  "nteract": {
   "version": "0.2.0"
  }
 },
 "nbformat": 4,
 "nbformat_minor": 2
}
